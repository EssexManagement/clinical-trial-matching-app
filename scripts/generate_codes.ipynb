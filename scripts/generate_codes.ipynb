{
 "cells": [
  {
   "cell_type": "code",
   "execution_count": 17,
   "metadata": {},
   "outputs": [],
   "source": [
    "cancerType = [\"gastric/esophageal\"]\n",
    "category = [\"Leucovorin\", \"Folinic Acid\", \"Calcium Folinate\", \"FOLFIRI\"]"
   ]
  },
  {
   "cell_type": "markdown",
   "metadata": {},
   "source": [
    "Using RxNav with modification to resources/js/rxnav/views/graph.js to extract the codes and names,\n",
    "need to search both drug name and brand name to pull all values.\n",
    "\n",
    "Drug names and brand names should be added in mappings files."
   ]
  },
  {
   "cell_type": "code",
   "execution_count": 18,
   "metadata": {},
   "outputs": [],
   "source": [
    "objs = {\n",
    "    \"6313\": [\"leucovorin\"],\n",
    "    \"105691\": [\"leucovorin 7.5 MG/ML Injectable Solution\"],\n",
    "    \"197860\": [\"leucovorin 10 MG Oral Tablet\"],\n",
    "    \"197861\": [\"leucovorin 15 MG Oral Tablet\"],\n",
    "    \"197862\": [\"leucovorin 25 MG Oral Tablet\"],\n",
    "    \"197863\": [\"leucovorin 5 MG Oral Tablet\"],\n",
    "    \"225852\": [\"leucovorin calcium\"],\n",
    "    \"237788\": [\"leucovorin 350 MG Injection\"],\n",
    "    \"311282\": [\"leucovorin 10 MG/ML Injectable Solution\"],\n",
    "    \"323957\": [\"leucovorin 10 MG/ML\"],\n",
    "    \"329896\": [\"leucovorin 10 MG\"],\n",
    "    \"329897\": [\"leucovorin 15 MG\"],\n",
    "    \"329898\": [\"leucovorin 25 MG\"],\n",
    "    \"329899\": [\"leucovorin 5 MG\"],\n",
    "    \"360568\": [\"leucovorin 7.5 MG/ML\"],\n",
    "    \"372573\": [\"leucovorin Injectable Solution\"],\n",
    "    \"372575\": [\"leucovorin Oral Tablet\"],\n",
    "    \"1162848\": [\"leucovorin Injectable Product\"],\n",
    "    \"1162850\": [\"leucovorin Oral Product\"],\n",
    "    \"1163441\": [\"leucovorin Pill\"],\n",
    "    \"1803920\": [\"leucovorin 350 MG\"],\n",
    "    \"1803921\": [\"leucovorin Injection\"],\n",
    "    \"1803929\": [\"leucovorin 50 MG\"],\n",
    "    \"1803930\": [\"leucovorin 50 MG Injection\"],\n",
    "    \"1803931\": [\"leucovorin 100 MG\"],\n",
    "    \"1803932\": [\"leucovorin 100 MG Injection\"],\n",
    "    \"1803936\": [\"leucovorin 200 MG\"],\n",
    "    \"1803937\": [\"leucovorin 200 MG Injection\"],\n",
    "    \"2055035\": [\"leucovorin 500 MG\"],\n",
    "    \"2055036\": [\"leucovorin 500 MG Injection\"],\n",
    "    \"2099993\": [\"10 ML leucovorin 10 MG/ML Injection\"],\n",
    "    \"2104714\": [\"50 ML leucovorin 10 MG/ML Injection\"],\n",
    "}\n"
   ]
  },
  {
   "cell_type": "code",
   "execution_count": null,
   "metadata": {},
   "outputs": [],
   "source": [
    "for code, names in objs.items():\n",
    "    print(f'\"{code}\"', end=\",\\n\")\n",
    "    assert len(names) == 1"
   ]
  },
  {
   "cell_type": "code",
   "execution_count": 20,
   "metadata": {},
   "outputs": [],
   "source": [
    "import dataclasses\n",
    "import json\n",
    "\n",
    "\n",
    "@dataclasses.dataclass\n",
    "class OPDE:\n",
    "    entryType: str\n",
    "    cancerType: list[str]\n",
    "    code: str\n",
    "    display: str\n",
    "    system: str\n",
    "    category: list[str]\n",
    "\n",
    "\n",
    "opdes = []\n",
    "for code, values in objs.items():\n",
    "    opdes.append(\n",
    "        OPDE(\n",
    "            entryType=\"medications\",\n",
    "            cancerType=cancerType,\n",
    "            code=code,\n",
    "            display=values[0].title(),\n",
    "            system=\"http://www.nlm.nih.gov/research/umls/rxnorm\",\n",
    "            category=category,\n",
    "        )\n",
    "    )\n",
    "\n",
    "\n",
    "class EnhancedJSONEncoder(json.JSONEncoder):\n",
    "    def default(self, o):\n",
    "        if dataclasses.is_dataclass(o):\n",
    "            return dataclasses.asdict(o)\n",
    "        return super().default(o)\n",
    "\n",
    "\n",
    "with open(\"opde.out.json\", \"w\") as fp:\n",
    "    json.dump(opdes, fp, indent=1, cls=EnhancedJSONEncoder)"
   ]
  }
 ],
 "metadata": {
  "kernelspec": {
   "display_name": "venv",
   "language": "python",
   "name": "python3"
  },
  "language_info": {
   "codemirror_mode": {
    "name": "ipython",
    "version": 3
   },
   "file_extension": ".py",
   "mimetype": "text/x-python",
   "name": "python",
   "nbconvert_exporter": "python",
   "pygments_lexer": "ipython3",
   "version": "3.11.2"
  }
 },
 "nbformat": 4,
 "nbformat_minor": 2
}
