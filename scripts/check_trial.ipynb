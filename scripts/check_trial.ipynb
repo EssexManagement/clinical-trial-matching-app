{
 "cells": [
  {
   "cell_type": "code",
   "execution_count": 1,
   "metadata": {},
   "outputs": [],
   "source": [
    "nct_ids = [\n",
    "    \"NCT05379595\",\n",
    "    \"NCT03526835\",\n",
    "    \"NCT03715933\",\n",
    "    \"NCT05464030\",\n",
    "    \"NCT04008030\",\n",
    "    \"NCT05683418\",\n",
    "    \"NCT05253651\",\n",
    "    \"NCT05673148\",\n",
    "    \"NCT06258525\",\n",
    "    \"NCT00000321\",\n",
    "    \"NCT05948826\",\n",
    "    \"NCT06242470\",\n",
    "    \"NCT06445062\",\n",
    "    \"NCT04449874\",\n",
    "    \"NCT05647122\",\n",
    "]"
   ]
  },
  {
   "cell_type": "code",
   "execution_count": 2,
   "metadata": {},
   "outputs": [],
   "source": [
    "import requests\n",
    "import re\n",
    "\n",
    "studies = []\n",
    "for id in nct_ids:\n",
    "    res = requests.get(f\"https://clinicaltrials.gov/api/v2/studies/{id}\")\n",
    "    res.raise_for_status()\n",
    "    data = res.text\n",
    "    studies.append((id, data))"
   ]
  },
  {
   "cell_type": "code",
   "execution_count": 8,
   "metadata": {},
   "outputs": [
    {
     "name": "stdout",
     "output_type": "stream",
     "text": [
      "NCT05379595: []\n",
      "NCT03526835: []\n",
      "NCT03715933: []\n",
      "NCT05464030: []\n",
      "NCT04008030: ['Cetuximab', 'Cetuximab', 'Cetuximab', 'Cetuximab']\n",
      "NCT05683418: []\n",
      "NCT05253651: ['Cetuximab', 'cetuximab', 'cetuximab', 'cetuximab', 'cetuximab', 'cetuximab', 'Cetuximab', 'Cetuximab']\n",
      "NCT05673148: []\n",
      "NCT06258525: []\n",
      "NCT00000321: []\n",
      "NCT05948826: []\n",
      "NCT06242470: []\n",
      "NCT06445062: ['cetuximab', 'cetuximab', 'Cetuximab', 'cetuximab', 'cetuximab', 'Cetuximab', 'Cetuximab']\n",
      "NCT04449874: ['Cetuximab', 'Cetuximab', 'cetuximab', 'Cetuximab', 'Cetuximab', 'Cetuximab', 'Cetuximab', 'Cetuximab', 'Cetuximab', 'Cetuximab']\n",
      "NCT05647122: []\n"
     ]
    }
   ],
   "source": [
    "for id, study in studies:\n",
    "    print(f\"{id}:\", re.findall(r\"cetuximab\", study, re.I))"
   ]
  }
 ],
 "metadata": {
  "kernelspec": {
   "display_name": "venv",
   "language": "python",
   "name": "python3"
  },
  "language_info": {
   "codemirror_mode": {
    "name": "ipython",
    "version": 3
   },
   "file_extension": ".py",
   "mimetype": "text/x-python",
   "name": "python",
   "nbconvert_exporter": "python",
   "pygments_lexer": "ipython3",
   "version": "3.11.2"
  }
 },
 "nbformat": 4,
 "nbformat_minor": 2
}
