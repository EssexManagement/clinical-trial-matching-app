{
 "cells": [
  {
   "cell_type": "code",
   "execution_count": 1,
   "metadata": {},
   "outputs": [],
   "source": [
    "nct_ids = [\n",
    "\"NCT04486378\",\n",
    "\"NCT04166318\",\n",
    "\"NCT02912949\",\n",
    "\"NCT05384626\",\n",
    "\"NCT05308446\",\n",
    "\"NCT04701476\",\n",
    "\"NCT04068194\",\n",
    "\"NCT04130542\",\n",
    "\"NCT05118789\",\n",
    "\"NCT04180371\",\n",
    "\"NCT04423029\",\n",
    "\"NCT04920032\",\n",
    "\"NCT04900818\",\n",
    "\"NCT04868877\",\n",
    "\"NCT04158336\",\n",
    "]"
   ]
  },
  {
   "cell_type": "code",
   "execution_count": 2,
   "metadata": {},
   "outputs": [],
   "source": [
    "import requests\n",
    "import re\n",
    "\n",
    "studies = []\n",
    "for id in nct_ids:\n",
    "    res = requests.get(f\"https://clinicaltrials.gov/api/v2/studies/{id}\")\n",
    "    res.raise_for_status()\n",
    "    data = res.text\n",
    "    studies.append((id, data))"
   ]
  },
  {
   "cell_type": "code",
   "execution_count": 8,
   "metadata": {},
   "outputs": [
    {
     "name": "stdout",
     "output_type": "stream",
     "text": [
      "NCT04486378: []\n",
      "NCT04166318: []\n",
      "NCT02912949: []\n",
      "NCT05384626: []\n",
      "NCT05308446: []\n",
      "NCT04701476: ['Pembrolizumab', 'Pembrolizumab', 'Pembrolizumab', 'Pembrolizumab', 'pembrolizumab', 'Pembrolizumab', 'pembrolizumab', 'pembrolizumab', 'pembrolizumab', 'Pembrolizumab', 'Pembrolizumab', 'Pembrolizumab']\n",
      "NCT04068194: ['pembrolizumab']\n",
      "NCT04130542: ['Pembrolizumab', 'Pembrolizumab', 'Pembrolizumab', 'pembrolizumab', 'pembrolizumab', 'Pembrolizumab', 'pembrolizumab', 'pembrolizumab', 'pembrolizumab', 'Pembrolizumab', 'Pembrolizumab']\n",
      "NCT05118789: []\n",
      "NCT04180371: []\n",
      "NCT04423029: []\n",
      "NCT04920032: []\n",
      "NCT04900818: []\n",
      "NCT04868877: []\n",
      "NCT04158336: []\n"
     ]
    }
   ],
   "source": [
    "for id, study in studies:\n",
    "    print(f\"{id}:\", re.findall(r\"pembrolizumab\", study, re.I))"
   ]
  }
 ],
 "metadata": {
  "kernelspec": {
   "display_name": "venv",
   "language": "python",
   "name": "python3"
  },
  "language_info": {
   "codemirror_mode": {
    "name": "ipython",
    "version": 3
   },
   "file_extension": ".py",
   "mimetype": "text/x-python",
   "name": "python",
   "nbconvert_exporter": "python",
   "pygments_lexer": "ipython3",
   "version": "3.11.2"
  }
 },
 "nbformat": 4,
 "nbformat_minor": 2
}
