{
 "cells": [
  {
   "cell_type": "code",
   "execution_count": 87,
   "metadata": {},
   "outputs": [],
   "source": [
    "nct_ids = [\"NCT04457596\", \"NCT05774951\", \"NCT04266249\", \"NCT05514054\"]"
   ]
  },
  {
   "cell_type": "code",
   "execution_count": 88,
   "metadata": {},
   "outputs": [
    {
     "data": {
      "application/vnd.jupyter.widget-view+json": {
       "model_id": "91cc4a40af9a40499ce80a3d99913048",
       "version_major": 2,
       "version_minor": 0
      },
      "text/plain": [
       "  0%|          | 0/4 [00:00<?, ?it/s]"
      ]
     },
     "metadata": {},
     "output_type": "display_data"
    }
   ],
   "source": [
    "import re\n",
    "from datetime import timedelta\n",
    "\n",
    "from requests_cache import CachedSession\n",
    "from tqdm.notebook import tqdm\n",
    "\n",
    "session = CachedSession(expire_after=timedelta(days=14))\n",
    "\n",
    "studies = []\n",
    "for id in tqdm(nct_ids):\n",
    "    res = session.get(f\"https://clinicaltrials.gov/api/v2/studies/{id}\")\n",
    "    res.raise_for_status()\n",
    "    data = res.text\n",
    "    studies.append((id, data))"
   ]
  },
  {
   "cell_type": "code",
   "execution_count": 89,
   "metadata": {},
   "outputs": [
    {
     "name": "stdout",
     "output_type": "stream",
     "text": [
      "NCT05514054: ['Breast', 'Breast', 'breast', 'Breast', 'breast', 'breast', 'breast', 'breast', 'breast', 'breast', 'breast', 'Breast', 'Breast', 'Breast', 'Breast', 'Breast', 'Breast', 'Breast', 'Breast']\n",
      "NCT04266249: ['Breast', 'breast', 'breast', 'breast', 'breast', 'breast', 'breast', 'breast', 'breast', 'breast', 'Breast', 'Breast', 'Breast', 'Breast', 'Breast', 'Breast', 'Breast', 'Breast', 'Breast', 'Breast', 'breast', 'breast', 'breast', 'breast', 'breast', 'breast', 'breast', 'breast', 'breast', 'breast', 'breast', 'breast', 'breast', 'breast', 'breast', 'breast', 'breast', 'breast', 'breast', 'breast', 'breast', 'breast', 'breast', 'breast', 'breast', 'Breast', 'Breast', 'Breast', 'Breast', 'Breast', 'Breast', 'Breast', 'Breast', 'Breast', 'Breast', 'Breast']\n",
      "NCT05774951: ['Breast', 'Breast', 'breast', 'breast', 'breast', 'Breast', 'Breast', 'breast', 'breast', 'breast', 'breast', 'breast', 'breast', 'breast', 'breast', 'breast', 'breast', 'breast', 'breast', 'breast', 'Breast', 'Breast', 'breast', 'Breast', 'Breast', 'Breast', 'Breast', 'Breast']\n",
      "NCT04457596: ['Breast', 'Breast', 'breast', 'breast', 'breast', 'breast', 'breast', 'Breast', 'Breast', 'Breast', 'Breast', 'Breast', 'Breast', 'Breast', 'Breast', 'Breast', 'Breast', 'Breast', 'Breast', 'Breast', 'Breast', 'Breast', 'Breast', 'Breast', 'Breast', 'Breast', 'Breast', 'Breast', 'Breast', 'Breast', 'breast', 'breast', 'Breast', 'breast', 'Breast', 'Breast', 'breast', 'breast', 'breast', 'breast', 'breast', 'breast', 'breast', 'breast', 'breast', 'breast', 'Breast', 'breast', 'breast', 'breast', 'breast', 'breast', 'breast', 'breast', 'breast', 'Breast', 'Breast', 'Breast', 'Breast', 'Breast', 'Breast', 'Breast', 'Breast', 'Breast', 'Breast', 'Breast', 'breast', 'Breast', 'Breast', 'Breast', 'Breast', 'Breast']\n",
      "1.0\n"
     ]
    }
   ],
   "source": [
    "from functools import cmp_to_key\n",
    "import json\n",
    "\n",
    "keywordPattern = r\"(breast)\"\n",
    "\n",
    "\n",
    "def sort_if_contains(a: tuple[str, str], b: tuple[str, str]):\n",
    "    if re.findall(keywordPattern, a[1], re.I):\n",
    "        return -1\n",
    "    if re.findall(keywordPattern, b[1], re.I):\n",
    "        return 1\n",
    "    return 0\n",
    "\n",
    "\n",
    "studies = sorted(studies, key=cmp_to_key(sort_if_contains))\n",
    "matches = 0\n",
    "delimiter = False\n",
    "for id, study in studies:\n",
    "    if found := re.findall(keywordPattern, study, re.I):\n",
    "      matches += 1\n",
    "      print(f\"{id}:\", found)\n",
    "    else:\n",
    "      if not delimiter:\n",
    "         print('------------------------------------------')\n",
    "         delimiter = True\n",
    "      conditions = json.loads(study)[\"protocolSection\"][\"conditionsModule\"][\"conditions\"]\n",
    "      print(f\"{id}:\", conditions)\n",
    "print(matches/len(studies))"
   ]
  },
  {
   "cell_type": "code",
   "execution_count": 90,
   "metadata": {},
   "outputs": [
    {
     "data": {
      "text/plain": [
       "(4, 4)"
      ]
     },
     "execution_count": 90,
     "metadata": {},
     "output_type": "execute_result"
    }
   ],
   "source": [
    "matches, len(studies)"
   ]
  },
  {
   "cell_type": "code",
   "execution_count": null,
   "metadata": {},
   "outputs": [],
   "source": [
    "import json\n",
    "\n",
    "print(\n",
    "    json.dumps(\n",
    "        json.loads(\n",
    "            session.cache.get_response(key=\"8ec542ba8e7e0027\").content.decode(\"utf-8\")\n",
    "        ),\n",
    "        indent=1,\n",
    "    )\n",
    ")\n",
    "# for response in session.cache.filter():\n",
    "#     print(response.cache_key if 'NCT03994796' in response.url else None)"
   ]
  }
 ],
 "metadata": {
  "kernelspec": {
   "display_name": "venv",
   "language": "python",
   "name": "python3"
  },
  "language_info": {
   "codemirror_mode": {
    "name": "ipython",
    "version": 3
   },
   "file_extension": ".py",
   "mimetype": "text/x-python",
   "name": "python",
   "nbconvert_exporter": "python",
   "pygments_lexer": "ipython3",
   "version": "3.11.2"
  }
 },
 "nbformat": 4,
 "nbformat_minor": 2
}
