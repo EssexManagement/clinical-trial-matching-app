{
 "cells": [
  {
   "cell_type": "code",
   "execution_count": 16,
   "metadata": {},
   "outputs": [],
   "source": [
    "import datetime\n",
    "import os\n",
    "from requests_cache import CachedSession\n",
    "from tqdm.notebook import tqdm\n",
    "import pandas as pd\n",
    "\n",
    "session = CachedSession(\n",
    "    expire_after=datetime.timedelta(days=1), allowable_methods=[\"GET\", \"POST\"]\n",
    ")\n",
    "\n",
    "key = os.getenv(\"CTS_V2_API_KEY\")"
   ]
  },
  {
   "cell_type": "code",
   "execution_count": 24,
   "metadata": {},
   "outputs": [],
   "source": [
    "OPEN_TRIALS = [\n",
    "    \"Active\",\n",
    "    \"Approved\",\n",
    "    \"Enrolling by Invitation\",\n",
    "    \"In Review\",\n",
    "    \"Temporarily Closed to Accrual\",\n",
    "    \"Temporarily Closed to Accrual and Intervention\",\n",
    "]\n",
    "OPEN_SITES = [\n",
    "    \"active\",\n",
    "    \"approved\",\n",
    "    \"enrolling_by_invitation\",\n",
    "    \"in_review\",\n",
    "    \"temporarily_closed_to_accrual\",\n",
    "]\n",
    "TODAY = datetime.date.today().strftime(\"%Y%m%d\")\n",
    "\n",
    "\n",
    "def get_ctsapi_trials(start: int, **others):\n",
    "    res = session.post(\n",
    "        \"https://clinicaltrialsapi.cancer.gov/api/v2/trials\",\n",
    "        json={\n",
    "            \"current_trial_status\": OPEN_TRIALS,\n",
    "            \"include\": [\"nci_id\", \"nct_id\", \"brief_title\", \"current_trial_status\"],\n",
    "            \"from\": start,\n",
    "            \"sites.recruitment_status\": OPEN_SITES,\n",
    "            \"size\": 50,\n",
    "            **others,\n",
    "        },\n",
    "        headers={\"X-API-KEY\": key},\n",
    "    )\n",
    "    res.raise_for_status()\n",
    "    return res.json()\n",
    "\n",
    "\n",
    "def gather_trials(**kwargs):\n",
    "    page = get_ctsapi_trials(start=0, **kwargs)\n",
    "    total = page[\"total\"]\n",
    "    trials = page[\"data\"]\n",
    "    pbar = tqdm(total=total)\n",
    "    pbar.update(len(trials))\n",
    "    while len(trials) < total:\n",
    "        next_page = get_ctsapi_trials(start=len(trials), **kwargs)\n",
    "        trials.extend(next_page[\"data\"])\n",
    "        pbar.update(len(next_page[\"data\"]))\n",
    "    pbar.refresh()\n",
    "    return trials\n",
    "\n",
    "\n",
    "def get_nci_campus_trials():\n",
    "    trials = gather_trials(**{\"sites.org_postal_code\": \"20892\"})\n",
    "    df = pd.DataFrame(\n",
    "        trials, columns=[\"nct_id\", \"nci_id\", \"current_trial_status\", \"brief_title\"]\n",
    "    )\n",
    "    df.to_csv(f\"nih_onsite_trials_{TODAY}.csv\", index=False, encoding=\"utf_8_sig\")\n",
    "\n",
    "\n",
    "def get_nci_funded_trials():\n",
    "    trials = gather_trials(\n",
    "        **{\"nci_funded\": \"Direct\", \"outer_or_nci_funded\": \"Indirect\"}\n",
    "    )\n",
    "    df = pd.DataFrame(\n",
    "        trials, columns=[\"nct_id\", \"nci_id\", \"current_trial_status\", \"brief_title\"]\n",
    "    )\n",
    "    df.to_csv(f\"nci_funded_trials_{TODAY}.csv\", index=False, encoding=\"utf_8_sig\")"
   ]
  },
  {
   "cell_type": "code",
   "execution_count": 26,
   "metadata": {},
   "outputs": [
    {
     "data": {
      "application/vnd.jupyter.widget-view+json": {
       "model_id": "caf164c522de4823ab9ef84af43c7a65",
       "version_major": 2,
       "version_minor": 0
      },
      "text/plain": [
       "  0%|          | 0/21631 [00:00<?, ?it/s]"
      ]
     },
     "metadata": {},
     "output_type": "display_data"
    }
   ],
   "source": [
    "# get_nci_campus_trials()\n",
    "get_nci_funded_trials()"
   ]
  }
 ],
 "metadata": {
  "kernelspec": {
   "display_name": "venv",
   "language": "python",
   "name": "python3"
  },
  "language_info": {
   "codemirror_mode": {
    "name": "ipython",
    "version": 3
   },
   "file_extension": ".py",
   "mimetype": "text/x-python",
   "name": "python",
   "nbconvert_exporter": "python",
   "pygments_lexer": "ipython3",
   "version": "3.11.2"
  }
 },
 "nbformat": 4,
 "nbformat_minor": 2
}
